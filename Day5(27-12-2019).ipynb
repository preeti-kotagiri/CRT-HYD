{
 "cells": [
  {
   "cell_type": "code",
   "execution_count": 1,
   "metadata": {},
   "outputs": [
    {
     "name": "stdout",
     "output_type": "stream",
     "text": [
      "3\n",
      "1\n",
      "2\n",
      "3\n",
      "6\n"
     ]
    }
   ],
   "source": [
    "#create a list and accept values of the list at runtime\n",
    "#and print sum of all the elements of the list\n",
    "list1 = []\n",
    "n = int(input())\n",
    "for i in range(n):\n",
    "    list1.append(int(input()))\n",
    "a = sum(list1)\n",
    "print(a)"
   ]
  },
  {
   "cell_type": "code",
   "execution_count": null,
   "metadata": {},
   "outputs": [],
   "source": [
    "#count no.of digits in the given string\n",
    "#input:\"python123is456good789\"\n",
    "#output:9\n",
    "s = input()\n",
    "i = 0\n",
    "count = 0\n",
    "add = 0\n",
    "while i<len(s):\n",
    "    if s[i].isdigit():\n",
    "        count += 1\n",
    "        add += int(s[i])\n",
    "    i += 1\n",
    "print(\"count is:\",count,\"sum of digits is:\",sum)"
   ]
  },
  {
   "cell_type": "code",
   "execution_count": 5,
   "metadata": {},
   "outputs": [
    {
     "name": "stdout",
     "output_type": "stream",
     "text": [
      "enter a number10\n",
      "1 3 5 7 9 "
     ]
    }
   ],
   "source": [
    "#for loop\n",
    "#1.using range()\n",
    "#2.using Iterable object\n",
    "n = int(input(\"enter a number\"))\n",
    "for i in range(1,n+1,2):\n",
    "    print(i,end=\" \")\n"
   ]
  },
  {
   "cell_type": "code",
   "execution_count": 10,
   "metadata": {},
   "outputs": [
    {
     "name": "stdout",
     "output_type": "stream",
     "text": [
      "python\n",
      "p y t h o n \n",
      "p y t h o n \n",
      "p y t h o n "
     ]
    }
   ],
   "source": [
    "#input:python\n",
    "#output:p y t h o n\n",
    "s = input()\n",
    "i = 0\n",
    "while i<len(s):\n",
    "    print(s[i],end=\" \")\n",
    "    i+=1\n",
    "print()\n",
    "for i in range(0,len(s)):\n",
    "    print(s[i],end=\" \")\n",
    "print()\n",
    "for i in s:\n",
    "    print(i,end=\" \")"
   ]
  },
  {
   "cell_type": "markdown",
   "metadata": {},
   "source": [
    "## collection type Data type:\n",
    "### List:\n",
    "1. for creating a list use []\n",
    "2. List are mutable\n",
    "3. List are indexed\n",
    "4. List are ordered\n",
    "5. List allows duplicate values\n",
    "6. It stores heterogenous values\n"
   ]
  },
  {
   "cell_type": "code",
   "execution_count": 15,
   "metadata": {},
   "outputs": [
    {
     "name": "stdout",
     "output_type": "stream",
     "text": [
      "[1, 2, 3]\n",
      "[456, 56.67]\n",
      "gnirts\n",
      "3\n"
     ]
    }
   ],
   "source": [
    "list1 = [23,34,456,56.67,\"string\",True,[1,2,3]]\n",
    "print(list1[-1])\n",
    "print(list1[2:4])\n",
    "print(list1[-3][::-1])\n",
    "print(list1[-1][-1])"
   ]
  },
  {
   "cell_type": "code",
   "execution_count": 30,
   "metadata": {},
   "outputs": [
    {
     "name": "stdout",
     "output_type": "stream",
     "text": [
      "Before adding elements: [34, 45, 56, 67]\n",
      "After adding elements: [34, 45, 56, 67, 100, 200, 300]\n"
     ]
    }
   ],
   "source": [
    "#Manipulating a list\n",
    "#1.Adding elements-->append(),insert(),extend()\n",
    "list1 = [34,45,56,67]\n",
    "print(\"Before adding elements:\",list1)\n",
    "list1.append(100)\n",
    "list1.append(200)\n",
    "list1.append(300)\n",
    "print(\"After adding elements:\",list1)"
   ]
  },
  {
   "cell_type": "code",
   "execution_count": 31,
   "metadata": {},
   "outputs": [
    {
     "data": {
      "text/plain": [
       "[34, 400, 45, 56, 67, 100, 200, 300]"
      ]
     },
     "execution_count": 31,
     "metadata": {},
     "output_type": "execute_result"
    }
   ],
   "source": [
    "list1.insert(1,400)\n",
    "list1"
   ]
  },
  {
   "cell_type": "code",
   "execution_count": 32,
   "metadata": {},
   "outputs": [],
   "source": [
    "list1.extend([1,2,3])"
   ]
  },
  {
   "cell_type": "code",
   "execution_count": 33,
   "metadata": {},
   "outputs": [
    {
     "name": "stdout",
     "output_type": "stream",
     "text": [
      "[34, 400, 45, 56, 67, 100, 200, 300, 1, 2, 3]\n"
     ]
    }
   ],
   "source": [
    "#Removing elements from the list-->pop(),remove(),clear()\n",
    "#list1.pop(5)\n",
    "#list1.remove()\n",
    "#list1.clear()\n",
    "print(list1)"
   ]
  },
  {
   "cell_type": "code",
   "execution_count": 34,
   "metadata": {},
   "outputs": [
    {
     "data": {
      "text/plain": [
       "[34, 400, 45, 56, 67, 1000, 200, 300, 1, 2, 3]"
      ]
     },
     "execution_count": 34,
     "metadata": {},
     "output_type": "execute_result"
    }
   ],
   "source": [
    "#Replacing an element\n",
    "list1[5] = 1000\n",
    "list1"
   ]
  },
  {
   "cell_type": "code",
   "execution_count": 43,
   "metadata": {},
   "outputs": [
    {
     "data": {
      "text/plain": [
       "[79, 68, 67, 56, 45, 34, 7, 2]"
      ]
     },
     "execution_count": 43,
     "metadata": {},
     "output_type": "execute_result"
    }
   ],
   "source": [
    "#sorting a list\n",
    "list1 = [34,56,7,68,79,2,45,67]\n",
    "list1.sort(reverse = True)\n",
    "list1"
   ]
  },
  {
   "cell_type": "code",
   "execution_count": 48,
   "metadata": {},
   "outputs": [
    {
     "data": {
      "text/plain": [
       "[46, 46, 68, 57, 46, 4324, 453]"
      ]
     },
     "execution_count": 48,
     "metadata": {},
     "output_type": "execute_result"
    }
   ],
   "source": [
    "#Reversing a list\n",
    "list1 = [453,4324,46,57,68,46,46]\n",
    "list1.reverse()\n",
    "list1"
   ]
  },
  {
   "cell_type": "code",
   "execution_count": 49,
   "metadata": {},
   "outputs": [
    {
     "data": {
      "text/plain": [
       "5"
      ]
     },
     "execution_count": 49,
     "metadata": {},
     "output_type": "execute_result"
    }
   ],
   "source": [
    "list1.index(4324)"
   ]
  },
  {
   "cell_type": "code",
   "execution_count": 51,
   "metadata": {},
   "outputs": [
    {
     "data": {
      "text/plain": [
       "3"
      ]
     },
     "execution_count": 51,
     "metadata": {},
     "output_type": "execute_result"
    }
   ],
   "source": [
    "list1.count(46)"
   ]
  },
  {
   "cell_type": "code",
   "execution_count": 56,
   "metadata": {},
   "outputs": [
    {
     "name": "stdout",
     "output_type": "stream",
     "text": [
      "[46, 46, 68, 57, 46, 4324, 453, 'python']    [46, 46, 68, 57, 46, 4324, 453, 'python']\n"
     ]
    }
   ],
   "source": [
    "list1.append(\"python\")\n",
    "list2 = list1\n",
    "print(list1,\"  \",list2)"
   ]
  },
  {
   "cell_type": "code",
   "execution_count": 57,
   "metadata": {},
   "outputs": [
    {
     "data": {
      "text/plain": [
       "[46, 46, 68, 57, 46, 4324, 453, 'python']"
      ]
     },
     "execution_count": 57,
     "metadata": {},
     "output_type": "execute_result"
    }
   ],
   "source": [
    "list3= list1.copy()\n",
    "list3"
   ]
  },
  {
   "cell_type": "code",
   "execution_count": 58,
   "metadata": {},
   "outputs": [
    {
     "name": "stdout",
     "output_type": "stream",
     "text": [
      "[1, 2, 3]\n"
     ]
    }
   ],
   "source": [
    "l1 = [1,2,3]\n",
    "l2 = l1\n",
    "print(l2)"
   ]
  },
  {
   "cell_type": "code",
   "execution_count": 59,
   "metadata": {},
   "outputs": [
    {
     "data": {
      "text/plain": [
       "[1, 2, 3]"
      ]
     },
     "execution_count": 59,
     "metadata": {},
     "output_type": "execute_result"
    }
   ],
   "source": [
    "l3 = l1.copy()\n",
    "l3"
   ]
  },
  {
   "cell_type": "code",
   "execution_count": 61,
   "metadata": {},
   "outputs": [
    {
     "name": "stdout",
     "output_type": "stream",
     "text": [
      "[1, 2, 3, 100] [1, 2, 3, 100] [1, 2, 3]\n",
      "[1, 2, 3, 100, 100] [1, 2, 3, 100, 100] [1, 2, 3]\n"
     ]
    }
   ],
   "source": [
    "print(l1,l2,l3)\n",
    "l1.append(100)\n",
    "print(l1,l2,l3)"
   ]
  },
  {
   "cell_type": "code",
   "execution_count": 63,
   "metadata": {},
   "outputs": [
    {
     "name": "stdout",
     "output_type": "stream",
     "text": [
      "[4, 16, 25, 49, 64]\n",
      "[4, 16, 25, 49, 64]\n"
     ]
    }
   ],
   "source": [
    "#input : [2,4,5,7,8]\n",
    "#output : [4,16,25,49,64]\n",
    "l1 = [2,4,5,7,8]\n",
    "l2 = []\n",
    "l3 = []\n",
    "for i in range(0,len(l1)):\n",
    "    l2.append(l1[i]**2)\n",
    "print(l2)\n",
    "for i in l1:\n",
    "    l3.append(i**2)\n",
    "print(l3)\n",
    "    "
   ]
  },
  {
   "cell_type": "code",
   "execution_count": 65,
   "metadata": {},
   "outputs": [
    {
     "name": "stdout",
     "output_type": "stream",
     "text": [
      "[2, 4, 8]\n"
     ]
    }
   ],
   "source": [
    "l4 = []\n",
    "for i in l1:\n",
    "    if i%2==0:\n",
    "        l4.append(i)\n",
    "print(l4)"
   ]
  },
  {
   "cell_type": "markdown",
   "metadata": {},
   "source": [
    "## Tuple:\n"
   ]
  },
  {
   "cell_type": "code",
   "execution_count": 2,
   "metadata": {},
   "outputs": [
    {
     "name": "stdout",
     "output_type": "stream",
     "text": [
      "(23, 34, 45, 56, 67)\n",
      "<class 'tuple'>\n"
     ]
    }
   ],
   "source": [
    "x = 23,34,45,56,67\n",
    "print(x)\n",
    "print(type(x))"
   ]
  },
  {
   "cell_type": "code",
   "execution_count": 3,
   "metadata": {},
   "outputs": [
    {
     "name": "stdout",
     "output_type": "stream",
     "text": [
      "23 34 5\n"
     ]
    }
   ],
   "source": [
    "tup1 = (23,34,5)\n",
    "x,y,z = tup1\n",
    "print(x,y,z)"
   ]
  },
  {
   "cell_type": "markdown",
   "metadata": {},
   "source": [
    "### Dictionary:\n",
    "#### syntax : {key1:value1,key2:value2,......}\n",
    "#### key:\n",
    "1. key should be unique\n",
    "2. key should be immutable-->int,float,string,tuple"
   ]
  },
  {
   "cell_type": "code",
   "execution_count": 8,
   "metadata": {},
   "outputs": [
    {
     "data": {
      "text/plain": [
       "'python'"
      ]
     },
     "execution_count": 8,
     "metadata": {},
     "output_type": "execute_result"
    }
   ],
   "source": [
    "dict1 = {\"name\":\"preeti\",\"course\":\"python\",\"address\":\"hyd\"}\n",
    "dict1[\"course\"]"
   ]
  },
  {
   "cell_type": "code",
   "execution_count": null,
   "metadata": {},
   "outputs": [],
   "source": [
    "#replace values\n",
    "dict1[\"course\"] = \"c programming\"\n",
    "print(dict1)"
   ]
  },
  {
   "cell_type": "code",
   "execution_count": 9,
   "metadata": {},
   "outputs": [
    {
     "name": "stdout",
     "output_type": "stream",
     "text": [
      "{'name': 'preeti', 'course': 'python', 'address': 'hyd', 'college': 'GITAM'}\n"
     ]
    }
   ],
   "source": [
    "#Adding entry\n",
    "dict1[\"college\"] = \"GITAM\"\n",
    "print(dict1)"
   ]
  },
  {
   "cell_type": "code",
   "execution_count": 10,
   "metadata": {},
   "outputs": [
    {
     "name": "stdout",
     "output_type": "stream",
     "text": [
      "{'name': 'preeti', 'course': 'python', 'college': 'GITAM'}\n"
     ]
    }
   ],
   "source": [
    "#Removing entry\n",
    "del dict1[\"address\"]\n",
    "print(dict1)"
   ]
  },
  {
   "cell_type": "markdown",
   "metadata": {},
   "source": [
    "## Function:\n",
    "### def name_of_the_function(arg list):\n",
    "####          statements\n",
    "####          return "
   ]
  },
  {
   "cell_type": "code",
   "execution_count": 13,
   "metadata": {},
   "outputs": [
    {
     "name": "stdout",
     "output_type": "stream",
     "text": [
      "30\n",
      "None\n",
      "300\n",
      "None\n"
     ]
    }
   ],
   "source": [
    "def add(x,y):#function definition\n",
    "    print(x+y)\n",
    "print(add(10,20))#function calling\n",
    "print(add(100,200))"
   ]
  },
  {
   "cell_type": "code",
   "execution_count": null,
   "metadata": {},
   "outputs": [],
   "source": [
    "def square(x):\n",
    "    return x*x\n",
    "def cube(x):\n",
    "    return square(x)*x\n",
    "\n",
    "print(cube(3))"
   ]
  }
 ],
 "metadata": {
  "kernelspec": {
   "display_name": "Python 3",
   "language": "python",
   "name": "python3"
  },
  "language_info": {
   "codemirror_mode": {
    "name": "ipython",
    "version": 3
   },
   "file_extension": ".py",
   "mimetype": "text/x-python",
   "name": "python",
   "nbconvert_exporter": "python",
   "pygments_lexer": "ipython3",
   "version": "3.7.3"
  }
 },
 "nbformat": 4,
 "nbformat_minor": 2
}
