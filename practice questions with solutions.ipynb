{
 "cells": [
  {
   "cell_type": "markdown",
   "metadata": {},
   "source": [
    "1. Accept a number as an input and print factors of the given number\n",
    "2. Accept a number as an input and check whether the given number is perfect or not?\n",
    "    -input:6(1+2+3=6)\n",
    "    -output:YES\n",
    "3. Accept a number as an input and print factorial of the given number\n",
    "4. Accept a number as an input and check whether the given number is strong number or not\n",
    "    -input : 145\n",
    "    -output : yes\n",
    "    explanation : 1!+4!+5!=1+24+120=145\n",
    "5. Accept a number as an input and check whether the given number is armstrong number or not"
   ]
  },
  {
   "cell_type": "code",
   "execution_count": 2,
   "metadata": {},
   "outputs": [
    {
     "name": "stdout",
     "output_type": "stream",
     "text": [
      "10\n",
      "1 2 5 10 "
     ]
    }
   ],
   "source": [
    "#Accept a number as an input and print factors of the given number\n",
    "n = int(input())\n",
    "i = 1\n",
    "while i<=n:\n",
    "    if n%i == 0:\n",
    "        print(i,end=\" \")\n",
    "    i += 1"
   ]
  },
  {
   "cell_type": "code",
   "execution_count": 5,
   "metadata": {},
   "outputs": [
    {
     "name": "stdout",
     "output_type": "stream",
     "text": [
      "6\n",
      "perfect number\n"
     ]
    }
   ],
   "source": [
    "#Accept a number as an input and check whether the given number is perfect or not?\n",
    "n = int(input())\n",
    "s = 0\n",
    "i = 1\n",
    "while i<n:\n",
    "    if n%i == 0:\n",
    "        s+=i\n",
    "    i += 1\n",
    "if s==n:\n",
    "    print(\"perfect number\")\n",
    "else:\n",
    "    print(\"not a perfect number\")"
   ]
  },
  {
   "cell_type": "code",
   "execution_count": 6,
   "metadata": {},
   "outputs": [
    {
     "name": "stdout",
     "output_type": "stream",
     "text": [
      "5\n",
      "120\n"
     ]
    }
   ],
   "source": [
    "#Accept a number as an input and print factorial of the given number\n",
    "n = int(input())\n",
    "f = 1\n",
    "while n!=0:\n",
    "    f *= n\n",
    "    n -= 1\n",
    "print(f)"
   ]
  },
  {
   "cell_type": "code",
   "execution_count": 7,
   "metadata": {},
   "outputs": [
    {
     "name": "stdout",
     "output_type": "stream",
     "text": [
      "145\n",
      "strong number\n"
     ]
    }
   ],
   "source": [
    "#Accept a number as an input and check whether the given number is strong number or not\n",
    "n = int(input())\n",
    "s = 0\n",
    "temp = n\n",
    "while n!=0:\n",
    "    r = n%10\n",
    "    f = 1\n",
    "    while r!=0:\n",
    "        f *= r\n",
    "        r -= 1\n",
    "    s += f\n",
    "    n = n//10\n",
    "if temp == s:\n",
    "    print(\"strong number\")\n",
    "else:\n",
    "    print(\"not a strong number\")\n"
   ]
  },
  {
   "cell_type": "code",
   "execution_count": 13,
   "metadata": {},
   "outputs": [
    {
     "name": "stdout",
     "output_type": "stream",
     "text": [
      "8\n",
      "armstrong number\n"
     ]
    }
   ],
   "source": [
    "#Accept a number as an input and check whether the given number is armstrong number or not\n",
    "n = int(input())\n",
    "c = len(str(n))\n",
    "temp = n\n",
    "rev = 0\n",
    "while n!=0:\n",
    "    r = n%10\n",
    "    rev += (r**c)\n",
    "    n //= 10\n",
    "if temp == rev:\n",
    "    print(\"armstrong number\")\n",
    "else:\n",
    "    print(\"not a armstrong number\")"
   ]
  },
  {
   "cell_type": "markdown",
   "metadata": {},
   "source": [
    "Question 6:\n",
    "1. create a folder\n",
    "2. After creating a folder then go to that folder and create random no.of files with unique name\n",
    "3. Add content into the files and content should be unique in all files\n",
    "4. file size should be 512 bytes"
   ]
  },
  {
   "cell_type": "code",
   "execution_count": 7,
   "metadata": {},
   "outputs": [],
   "source": [
    "import os\n",
    "import random as r\n",
    "os.mkdir(\"C:/Users/preeti kotagiri/Desktop/SIEKT/sample\")\n",
    "n = r.randint(1,10)\n",
    "i = 1\n",
    "while i<=n:\n",
    "    s = \"C:/Users/preeti kotagiri/Desktop/SIEKT/sample/file%d\"%(i)\n",
    "    f = open(s,\"w\")\n",
    "    j = 1\n",
    "    while j<=512:\n",
    "        f.write(r.choice(\"abcdefghijklmnopqrstuvwxyz\"))\n",
    "        j += 1\n",
    "    f.close()\n",
    "    i +=1\n",
    "        "
   ]
  },
  {
   "cell_type": "markdown",
   "metadata": {},
   "source": [
    "7. create a function for finding factorial of a given number\n",
    "8. Accept a number as an input and check whether the given number is palindrome or not\n",
    "   - if it is a palindrome number print the number on the screen\n",
    "   - if it is not a palindrome number reverse that number and add it to previous number repeat this    until will get a palindrome number and print that palindrome number on the screen\n",
    "   - input: 127\n",
    "   - output: 848\n",
    "9. count the number of characters,words in the given file\n",
    "10. count the number of vowels,consonants,digits and special characters in the given file"
   ]
  },
  {
   "cell_type": "code",
   "execution_count": 8,
   "metadata": {},
   "outputs": [
    {
     "name": "stdout",
     "output_type": "stream",
     "text": [
      "120\n"
     ]
    }
   ],
   "source": [
    "#create a function for finding factorial of a given number\n",
    "def factorial(n):\n",
    "    f = 1\n",
    "    while n!=0:\n",
    "        f *= n\n",
    "        n -= 1\n",
    "    return f\n",
    "print(factorial(5))\n",
    "    "
   ]
  },
  {
   "cell_type": "code",
   "execution_count": 13,
   "metadata": {},
   "outputs": [
    {
     "name": "stdout",
     "output_type": "stream",
     "text": [
      "127\n",
      "848\n"
     ]
    }
   ],
   "source": [
    "#Accept a number as an input and check whether the given number is palindrome or not\n",
    "n = int(input())\n",
    "if str(n)==str(n)[::-1]:\n",
    "    print(n)\n",
    "else:\n",
    "    while str(n)!=str(n)[::-1]:\n",
    "        n += int(str(n)[::-1])\n",
    "    print(n)\n"
   ]
  },
  {
   "cell_type": "code",
   "execution_count": 15,
   "metadata": {},
   "outputs": [
    {
     "name": "stdout",
     "output_type": "stream",
     "text": [
      "32\n",
      "3\n"
     ]
    }
   ],
   "source": [
    "#count the number of characters,words in the given file\n",
    "f = open(\"data.txt\",\"r\")\n",
    "data =  f.read()\n",
    "print(len(data))\n",
    "print(len(data.split()))"
   ]
  },
  {
   "cell_type": "code",
   "execution_count": 16,
   "metadata": {},
   "outputs": [
    {
     "name": "stdout",
     "output_type": "stream",
     "text": [
      "vowels:12,consonants:14,digits:0,special characters:6\n"
     ]
    }
   ],
   "source": [
    "#count the number of vowels,consonants,digits and special characters in the given file\n",
    "vowels = \"aeiouAEIOU\"\n",
    "v = 0\n",
    "c = 0\n",
    "d = 0\n",
    "s = 0\n",
    "for i in data:\n",
    "    if i in vowels:\n",
    "        v += 1\n",
    "    elif i.isalpha() and (i not in vowels):\n",
    "        c += 1\n",
    "    elif i.isdigit():\n",
    "        d += 1\n",
    "    else:\n",
    "        s += 1\n",
    "\n",
    "print(\"vowels:%d,consonants:%d,digits:%d,special characters:%d\"%(v,c,d,s))\n",
    "        "
   ]
  },
  {
   "cell_type": "markdown",
   "metadata": {},
   "source": [
    "### Questions on strings:\n",
    "11. input:orange --> output : puboif\n",
    "12. input: Application,p --> output:2\n",
    "13. input:Appli123cation456 --> output:6(no.of digits)\n",
    "14. input : preethi --> output:3(no.of vowels)\n",
    "15. input:PyThOn --> output:pYtHoN\n"
   ]
  },
  {
   "cell_type": "code",
   "execution_count": 29,
   "metadata": {},
   "outputs": [
    {
     "name": "stdout",
     "output_type": "stream",
     "text": [
      "orange\n",
      "puboif"
     ]
    }
   ],
   "source": [
    "#input:orange --> output : puboif\n",
    "s = input()\n",
    "vowel = ['a','e','i','o','u']\n",
    "for i in s: \n",
    "    if i in vowel:\n",
    "        print(chr(ord(i)+1),end=\"\")\n",
    "    elif (ord(i)>65 and ord(i)<69) or (ord(i)>97 and ord(i)<101):\n",
    "        print('e',end=\"\")\n",
    "    elif (ord(i)>69 and ord(i)<73) or (ord(i)>101 and ord(i)<105):\n",
    "        print('i',end=\"\")\n",
    "    elif (ord(i)>73 and ord(i)<79) or (ord(i)>105 and ord(i)<111):\n",
    "        print('o',end=\"\")\n",
    "    elif (ord(i)>79 and ord(i)<85) or (ord(i)>111 and ord(i)<117):\n",
    "        print('u',end=\"\")\n",
    "    elif (ord(i)>85 and ord(i)<90) or (ord(i)>117 and ord(i)<122):\n",
    "        print('a',end=\"\")"
   ]
  },
  {
   "cell_type": "code",
   "execution_count": 20,
   "metadata": {},
   "outputs": [
    {
     "name": "stdout",
     "output_type": "stream",
     "text": [
      "Application\n",
      "p\n",
      "2\n",
      "2\n"
     ]
    }
   ],
   "source": [
    "#input: Application,p --> output:2\n",
    "s1 = input()\n",
    "s2 = input()\n",
    "print(s1.count(s2))\n",
    "#without using string built-in methods\n",
    "count = 0\n",
    "for i in s1:\n",
    "    if i == s2:\n",
    "        count+=1\n",
    "print(count)"
   ]
  },
  {
   "cell_type": "code",
   "execution_count": 22,
   "metadata": {},
   "outputs": [
    {
     "name": "stdout",
     "output_type": "stream",
     "text": [
      "Appli123cation456\n",
      "6\n",
      "6\n"
     ]
    }
   ],
   "source": [
    "#input:Appli123cation456 --> output:6(no.of digits)\n",
    "s = input()\n",
    "count = 0\n",
    "for i in s:\n",
    "    if i.isdigit():\n",
    "        count += 1\n",
    "print(count)\n",
    "#without using string built-in methods\n",
    "c = 0\n",
    "for i in s:\n",
    "    if ord(i)>=48 and ord(i)<=57:\n",
    "        c += 1\n",
    "print(c)\n",
    "   "
   ]
  },
  {
   "cell_type": "code",
   "execution_count": 23,
   "metadata": {},
   "outputs": [
    {
     "name": "stdout",
     "output_type": "stream",
     "text": [
      "preethi\n",
      "3\n"
     ]
    }
   ],
   "source": [
    "#input : preethi --> output:3(no.of vowels)\n",
    "vowels = \"aeiouAEIOU\"\n",
    "s = input()\n",
    "count = 0\n",
    "for i in s:\n",
    "    if i in vowels:\n",
    "        count += 1\n",
    "print(count)"
   ]
  },
  {
   "cell_type": "code",
   "execution_count": 28,
   "metadata": {},
   "outputs": [
    {
     "name": "stdout",
     "output_type": "stream",
     "text": [
      "PyThOn\n",
      "pYtHoN\n",
      "pYtHoN"
     ]
    }
   ],
   "source": [
    "#input:PyThOn --> output:pYtHoN\n",
    "s = input()\n",
    "print(s.swapcase())\n",
    "#without using string built-in methods\n",
    "for i in s:\n",
    "    if ord(i)>=65 and ord(i)<=90:\n",
    "        print(chr(ord(i)+32),end=\"\")\n",
    "    elif ord(i)>=97 and ord(i)<=122:\n",
    "        print(chr(ord(i)-32),end=\"\")\n",
    "    "
   ]
  }
 ],
 "metadata": {
  "kernelspec": {
   "display_name": "Python 3",
   "language": "python",
   "name": "python3"
  },
  "language_info": {
   "codemirror_mode": {
    "name": "ipython",
    "version": 3
   },
   "file_extension": ".py",
   "mimetype": "text/x-python",
   "name": "python",
   "nbconvert_exporter": "python",
   "pygments_lexer": "ipython3",
   "version": "3.7.3"
  }
 },
 "nbformat": 4,
 "nbformat_minor": 2
}
