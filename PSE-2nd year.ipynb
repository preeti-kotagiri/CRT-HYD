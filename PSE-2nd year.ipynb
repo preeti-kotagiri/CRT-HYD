{
 "cells": [
  {
   "cell_type": "markdown",
   "metadata": {},
   "source": [
    "1.\n",
    "Input:-\n",
    "5 - Size\n",
    "1 7 8 1 23 \n",
    "Output:-\n",
    "1 1 0 1 1"
   ]
  },
  {
   "cell_type": "code",
   "execution_count": 1,
   "metadata": {},
   "outputs": [
    {
     "name": "stdout",
     "output_type": "stream",
     "text": [
      "5\n",
      "34\n",
      "45\n",
      "56\n",
      "67\n",
      "78\n",
      "0 1 0 1 0 "
     ]
    }
   ],
   "source": [
    "n = int(input())\n",
    "# list1 = []\n",
    "# for i in range(n):\n",
    "#     list1.append(int(input()))\n",
    "#List comprehension\n",
    "list2 = [int(input()) for i in range(5)]\n",
    "for i in list2:\n",
    "    if i%2==0:\n",
    "        print(\"0\",end=\" \")\n",
    "    else:\n",
    "        print(\"1\",end=\" \")"
   ]
  },
  {
   "cell_type": "markdown",
   "metadata": {},
   "source": [
    "2.\n",
    "Input:-\n",
    "5\n",
    "19 2 1 24 8\n",
    "Output:-\n",
    "<1,24> -- Least and Large number from the list without using buil-in functions"
   ]
  },
  {
   "cell_type": "code",
   "execution_count": 1,
   "metadata": {},
   "outputs": [
    {
     "name": "stdout",
     "output_type": "stream",
     "text": [
      "5\n",
      "19\n",
      "2\n",
      "1\n",
      "24\n",
      "8\n",
      "24 1\n"
     ]
    }
   ],
   "source": [
    "n = int(input())\n",
    "list1 = [int(input()) for i in range(n)]\n",
    "max1 = list1[0]\n",
    "min1 = list1[0]\n",
    "for i in list1:\n",
    "    if i>max1:\n",
    "        max1=i\n",
    "    if i<min1:\n",
    "        min1=i\n",
    "print(min1,max1)"
   ]
  },
  {
   "cell_type": "markdown",
   "metadata": {},
   "source": [
    "3.\n",
    "check whether the given number is adam number or not\n",
    "input : 12\n",
    "output : YES\n",
    "explanation:\n",
    "12*12=144\n",
    "21*21=441\n",
    "original number square and reverse number square is same so it is adam number\n",
    "examples of adam numbers:0, 1, 2, 3, 11, 12, 13, 21, 22, 31, 101, 102, 103, 111, 112 , 113, 121, 122, 201, 202, 211, 212"
   ]
  },
  {
   "cell_type": "code",
   "execution_count": 4,
   "metadata": {
    "collapsed": true
   },
   "outputs": [
    {
     "name": "stdout",
     "output_type": "stream",
     "text": [
      "12\n",
      "Adam\n"
     ]
    }
   ],
   "source": [
    "n = int(input())\n",
    "n1 = int(str(n)[::-1])\n",
    "if(str(n*n) == str(n1*n1)[::-1]):\n",
    "    print(\"Adam\")   "
   ]
  },
  {
   "cell_type": "markdown",
   "metadata": {},
   "source": [
    "4.\n",
    "Input:-\n",
    "3\n",
    "1 2 3\n",
    "4 5 6\n",
    "7 8 9\n",
    "Output:-\n",
    "0 - Fwd and Rev Dig sum differenct\n",
    "Fwd - 1 + 5 + 9 -- 15\n",
    "Rev - 3 + 5 + 7 -- 15"
   ]
  },
  {
   "cell_type": "code",
   "execution_count": 4,
   "metadata": {},
   "outputs": [
    {
     "name": "stdout",
     "output_type": "stream",
     "text": [
      "3\n",
      "1\n",
      "2\n",
      "3\n",
      "4\n",
      "5\n",
      "6\n",
      "7\n",
      "8\n",
      "9\n",
      "difference is: 0\n"
     ]
    }
   ],
   "source": [
    "list1 = []\n",
    "d1=0\n",
    "d2=0\n",
    "n = int(input())\n",
    "for i in range(n):\n",
    "    list1.append([int(input()) for i in range(n)])\n",
    "for i in range(n):\n",
    "    for j in range(n):\n",
    "        if(i==j):\n",
    "            d1+=list1[i][j]\n",
    "        if(i+j==n-1):\n",
    "            d2+=list1[i][j]\n",
    "print(\"difference is:\",d1-d2)\n"
   ]
  },
  {
   "cell_type": "markdown",
   "metadata": {},
   "source": [
    "5.\n",
    "Given a string S consisting of opening and closing parenthesis '(' and ')'. Find length of the longest valid parenthesis substring.\t\t(Google 2017)\n",
    "Input:\n",
    "First line contains number of test cases T.  Each test case have one line string S of character '(' and ')' of length  N.\n",
    "Constraints:\n",
    "1 <= T <= 500\n",
    "1 <= N <= 105\n",
    "Example:\n",
    "Input:\n",
    "2\n",
    "((()\n",
    ")()())\n",
    "Output:\n",
    "2\n",
    "4"
   ]
  },
  {
   "cell_type": "code",
   "execution_count": 17,
   "metadata": {},
   "outputs": [
    {
     "name": "stdout",
     "output_type": "stream",
     "text": [
      "2\n",
      "((()\n",
      ")()())\n",
      "2\n",
      "4\n"
     ]
    }
   ],
   "source": [
    "t = int(input())\n",
    "list1 = [input() for i in range(t)]\n",
    "for i in list1:\n",
    "    print(i.count(\"()\")*2)"
   ]
  }
 ],
 "metadata": {
  "kernelspec": {
   "display_name": "Python 3",
   "language": "python",
   "name": "python3"
  },
  "language_info": {
   "codemirror_mode": {
    "name": "ipython",
    "version": 3
   },
   "file_extension": ".py",
   "mimetype": "text/x-python",
   "name": "python",
   "nbconvert_exporter": "python",
   "pygments_lexer": "ipython3",
   "version": "3.7.3"
  }
 },
 "nbformat": 4,
 "nbformat_minor": 2
}
